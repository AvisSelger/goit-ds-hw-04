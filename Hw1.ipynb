{
 "cells": [
  {
   "cell_type": "code",
   "execution_count": null,
   "metadata": {},
   "outputs": [],
   "source": [
    "import numpy as np\n",
    "\n",
    "vector_1 = np.arange(1, 11)\n",
    "print(\"Vector 1:\", vector_1)\n"
   ]
  },
  {
   "cell_type": "code",
   "execution_count": null,
   "metadata": {},
   "outputs": [],
   "source": [
    "matrix_2 = np.zeros((3, 3))\n",
    "print(\"Matrix 2:\\n\", matrix_2)\n"
   ]
  },
  {
   "cell_type": "code",
   "execution_count": null,
   "metadata": {},
   "outputs": [],
   "source": [
    "matrix_3 = np.random.randint(1, 11, (5, 5))\n",
    "print(\"Matrix 3:\\n\", matrix_3)\n"
   ]
  },
  {
   "cell_type": "code",
   "execution_count": null,
   "metadata": {},
   "outputs": [],
   "source": [
    "matrix_4 = np.random.rand(4, 4)\n",
    "print(\"Matrix 4:\\n\", matrix_4)\n"
   ]
  },
  {
   "cell_type": "code",
   "execution_count": null,
   "metadata": {},
   "outputs": [],
   "source": [
    "vector_5a = np.random.randint(1, 11, 5)\n",
    "vector_5b = np.random.randint(1, 11, 5)\n",
    "addition = vector_5a + vector_5b\n",
    "subtraction = vector_5a - vector_5b\n",
    "multiplication = vector_5a * vector_5b\n",
    "print(\"Vector 5a:\", vector_5a)\n",
    "print(\"Vector 5b:\", vector_5b)\n",
    "print(\"Addition:\", addition)\n",
    "print(\"Subtraction:\", subtraction)\n",
    "print(\"Multiplication:\", multiplication)\n"
   ]
  },
  {
   "cell_type": "code",
   "execution_count": null,
   "metadata": {},
   "outputs": [],
   "source": [
    "vector_6a = np.random.rand(7)\n",
    "vector_6b = np.random.rand(7)\n",
    "dot_product = np.dot(vector_6a, vector_6b)\n",
    "print(\"Vector 6a:\", vector_6a)\n",
    "print(\"Vector 6b:\", vector_6b)\n",
    "print(\"Dot Product:\", dot_product)\n"
   ]
  },
  {
   "cell_type": "code",
   "execution_count": null,
   "metadata": {},
   "outputs": [],
   "source": [
    "matrix_7a = np.random.randint(1, 11, (2, 2))\n",
    "matrix_7b = np.random.randint(1, 11, (2, 3))\n",
    "product_7 = np.dot(matrix_7a, matrix_7b)\n",
    "print(\"Matrix 7a:\\n\", matrix_7a)\n",
    "print(\"Matrix 7b:\\n\", matrix_7b)\n",
    "print(\"Product 7:\\n\", product_7)\n"
   ]
  },
  {
   "cell_type": "code",
   "execution_count": null,
   "metadata": {},
   "outputs": [],
   "source": [
    "matrix_8 = np.random.randint(1, 11, (3, 3))\n",
    "inverse_matrix_8 = np.linalg.inv(matrix_8)\n",
    "print(\"Matrix 8:\\n\", matrix_8)\n",
    "print(\"Inverse Matrix 8:\\n\", inverse_matrix_8)\n"
   ]
  },
  {
   "cell_type": "code",
   "execution_count": null,
   "metadata": {},
   "outputs": [],
   "source": [
    "matrix_9 = np.random.rand(4, 4)\n",
    "transpose_matrix_9 = np.transpose(matrix_9)\n",
    "print(\"Matrix 9:\\n\", matrix_9)\n",
    "print(\"Transpose Matrix 9:\\n\", transpose_matrix_9)\n"
   ]
  },
  {
   "cell_type": "code",
   "execution_count": null,
   "metadata": {},
   "outputs": [],
   "source": [
    "matrix_10 = np.random.randint(1, 11, (3, 4))\n",
    "vector_10 = np.random.randint(1, 11, 4)\n",
    "product_10 = np.dot(matrix_10, vector_10)\n",
    "print(\"Matrix 10:\\n\", matrix_10)\n",
    "print(\"Vector 10:\", vector_10)\n",
    "print(\"Product 10:\", product_10)\n"
   ]
  },
  {
   "cell_type": "code",
   "execution_count": null,
   "metadata": {},
   "outputs": [],
   "source": [
    "matrix_11 = np.random.rand(2, 3)\n",
    "vector_11 = np.random.rand(3)\n",
    "product_11 = np.dot(matrix_11, vector_11)\n",
    "print(\"Matrix 11:\\n\", matrix_11)\n",
    "print(\"Vector 11:\", vector_11)\n",
    "print(\"Product 11:\", product_11)\n"
   ]
  },
  {
   "cell_type": "code",
   "execution_count": null,
   "metadata": {},
   "outputs": [],
   "source": [
    "matrix_12a = np.random.randint(1, 11, (2, 2))\n",
    "matrix_12b = np.random.randint(1, 11, (2, 2))\n",
    "elementwise_product_12 = matrix_12a * matrix_12b\n",
    "print(\"Matrix 12a:\\n\", matrix_12a)\n",
    "print(\"Matrix 12b:\\n\", matrix_12b)\n",
    "print(\"Elementwise Product 12:\\n\", elementwise_product_12)\n"
   ]
  },
  {
   "cell_type": "code",
   "execution_count": null,
   "metadata": {},
   "outputs": [],
   "source": [
    "matrix_13a = np.random.randint(1, 11, (2, 2))\n",
    "matrix_13b = np.random.randint(1, 11, (2, 2))\n",
    "product_13 = np.dot(matrix_13a, matrix_13b)\n",
    "print(\"Matrix 13a:\\n\", matrix_13a)\n",
    "print(\"Matrix 13b:\\n\", matrix_13b)\n",
    "print(\"Product 13:\\n\", product_13)\n"
   ]
  },
  {
   "cell_type": "code",
   "execution_count": null,
   "metadata": {},
   "outputs": [],
   "source": [
    "matrix_14 = np.random.randint(1, 101, (5, 5))\n",
    "sum_matrix_14 = np.sum(matrix_14)\n",
    "print(\"Matrix 14:\\n\", matrix_14)\n",
    "print(\"Sum of Matrix 14:\", sum_matrix_14)\n"
   ]
  },
  {
   "cell_type": "code",
   "execution_count": null,
   "metadata": {},
   "outputs": [],
   "source": [
    "matrix_16 = np.random.rand(3, 3)\n",
    "sum_rows_16 = np.sum(matrix_16, axis=1).reshape(-1, 1)\n",
    "print(\"Matrix 16:\\n\", matrix_16)\n",
    "print(\"Sum of Rows 16:\\n\", sum_rows_16)\n"
   ]
  },
  {
   "cell_type": "code",
   "execution_count": null,
   "metadata": {},
   "outputs": [],
   "source": [
    "matrix_17 = np.random.randint(1, 11, (3, 4))\n",
    "squared_matrix_17 = matrix_17 ** 2\n",
    "print(\"Matrix 17:\\n\", matrix_17)\n",
    "print(\"Squared Matrix 17:\\n\", squared_matrix_17)\n"
   ]
  },
  {
   "cell_type": "code",
   "execution_count": null,
   "metadata": {},
   "outputs": [],
   "source": [
    "vector_18 = np.random.randint(1, 51, 4)\n",
    "sqrt_vector_18 = np.sqrt(vector_18)\n",
    "print(\"Vector 18:\", vector_18)\n",
    "print(\"Square Root Vector 18:\", sqrt_vector_18)\n"
   ]
  }
 ],
 "metadata": {
  "language_info": {
   "name": "python"
  }
 },
 "nbformat": 4,
 "nbformat_minor": 2
}
