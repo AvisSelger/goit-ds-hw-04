{
 "cells": [
  {
   "cell_type": "code",
   "execution_count": null,
   "metadata": {},
   "outputs": [],
   "source": [
    "import numpy as np\n",
    "\n",
    "arr = np.array([0, 1, 2, 3, 4, 5, 6, 7, 8, 9])\n",
    "arr[arr % 2 != 0] = -1\n",
    "print(\"Task 1:\", arr)\n"
   ]
  },
  {
   "cell_type": "code",
   "execution_count": null,
   "metadata": {},
   "outputs": [],
   "source": [
    "arr_1d = np.arange(1, 11)\n",
    "arr_2d = arr_1d.reshape(2, -1)\n",
    "print(\"Task 2:\\n\", arr_2d)\n"
   ]
  },
  {
   "cell_type": "code",
   "execution_count": null,
   "metadata": {},
   "outputs": [],
   "source": [
    "a = np.random.randint(1, 10, (2, 3))\n",
    "b = np.random.randint(1, 10, (2, 3))\n",
    "vertical_stack = np.vstack((a, b))\n",
    "print(\"Task 3:\\n\", vertical_stack)\n"
   ]
  },
  {
   "cell_type": "code",
   "execution_count": null,
   "metadata": {},
   "outputs": [],
   "source": [
    "a = np.array([1, 2, 3])\n",
    "output = np.r_[np.repeat(a, 3), np.tile(a, 3), np.tile(a, 3)]\n",
    "print(\"Task 4:\", output)\n"
   ]
  },
  {
   "cell_type": "code",
   "execution_count": null,
   "metadata": {},
   "outputs": [],
   "source": [
    "a = np.array([1, 2, 3, 2, 3, 4, 3, 4, 5, 6])\n",
    "b = np.array([7, 2, 10, 2, 7, 4, 9, 4, 9, 8])\n",
    "common_elements = np.intersect1d(a, b)\n",
    "print(\"Task 5:\", common_elements)\n"
   ]
  },
  {
   "cell_type": "code",
   "execution_count": null,
   "metadata": {},
   "outputs": [],
   "source": [
    "np.random.seed(100)\n",
    "a = np.random.uniform(1, 50, 20)\n",
    "top_5_indices = np.argsort(a)[-5:][::-1]\n",
    "print(\"Task 6:\", top_5_indices)\n"
   ]
  },
  {
   "cell_type": "code",
   "execution_count": null,
   "metadata": {},
   "outputs": [],
   "source": [
    "a = np.array([1, 2, 3, np.nan, 5, 6, 7, np.nan])\n",
    "a_without_nan = a[~np.isnan(a)]\n",
    "print(\"Task 7:\", a_without_nan)\n"
   ]
  },
  {
   "cell_type": "code",
   "execution_count": null,
   "metadata": {},
   "outputs": [],
   "source": [
    "a = np.array([1, 2, 3, 4, 5])\n",
    "b = np.array([4, 5, 6, 7, 8])\n",
    "euclidean_distance = np.linalg.norm(a - b)\n",
    "print(\"Task 8:\", euclidean_distance)\n"
   ]
  },
  {
   "cell_type": "code",
   "execution_count": null,
   "metadata": {},
   "outputs": [],
   "source": [
    "x = np.array([1, 2, 1, 1, 3, 4, 3, 1, 1, 2, 1, 1, 2])\n",
    "indices = np.where(x == 1)[0]\n",
    "fifth_occurrence_index = indices[4] if len(indices) > 4 else None\n",
    "print(\"Task 9:\", fifth_occurrence_index)\n"
   ]
  },
  {
   "cell_type": "code",
   "execution_count": null,
   "metadata": {},
   "outputs": [],
   "source": [
    "np.random.seed(100)\n",
    "a = np.random.randint(0, 5, 10)\n",
    "counts = np.bincount(a)\n",
    "repeated = np.zeros_like(a, dtype=bool)\n",
    "for number in np.unique(a):\n",
    "    occurrences = np.where(a == number)[0]\n",
    "    if len(occurrences) > 1:\n",
    "        repeated[occurrences[1:]] = True\n",
    "print(\"Task 10:\", repeated)\n"
   ]
  }
 ],
 "metadata": {
  "language_info": {
   "name": "python"
  }
 },
 "nbformat": 4,
 "nbformat_minor": 2
}
